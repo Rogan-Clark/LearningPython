{
 "cells": [
  {
   "cell_type": "markdown",
   "metadata": {},
   "source": [
    "#Learning Python and Numpy#\n",
    "- Variables"
   ]
  },
  {
   "cell_type": "code",
   "execution_count": 23,
   "metadata": {},
   "outputs": [
    {
     "name": "stdout",
     "output_type": "stream",
     "text": [
      "57.4\n"
     ]
    }
   ],
   "source": [
    "weight_kg=57.4\n",
    "print(weight_kg)"
   ]
  },
  {
   "cell_type": "code",
   "execution_count": 24,
   "metadata": {},
   "outputs": [
    {
     "name": "stdout",
     "output_type": "stream",
     "text": [
      "Weight in Pounds:  126.28\n"
     ]
    }
   ],
   "source": [
    "print('Weight in Pounds: ', 2.2*weight_kg)"
   ]
  },
  {
   "cell_type": "code",
   "execution_count": 25,
   "metadata": {},
   "outputs": [
    {
     "name": "stdout",
     "output_type": "stream",
     "text": [
      "Weight in Filthy Imperial Units:  126.28 lb\n"
     ]
    }
   ],
   "source": [
    "weight_lb=2.2*weight_kg\n",
    "print(\"Weight in Filthy Imperial Units: \", weight_lb, \"lb\")"
   ]
  },
  {
   "cell_type": "markdown",
   "metadata": {},
   "source": [
    "##Libraries"
   ]
  },
  {
   "cell_type": "code",
   "execution_count": 27,
   "metadata": {},
   "outputs": [],
   "source": [
    "import numpy"
   ]
  },
  {
   "cell_type": "code",
   "execution_count": 28,
   "metadata": {},
   "outputs": [
    {
     "data": {
      "text/plain": [
       "array([[0., 0., 1., ..., 3., 0., 0.],\n",
       "       [0., 1., 2., ..., 1., 0., 1.],\n",
       "       [0., 1., 1., ..., 2., 1., 1.],\n",
       "       ...,\n",
       "       [0., 1., 1., ..., 1., 1., 1.],\n",
       "       [0., 0., 0., ..., 0., 2., 0.],\n",
       "       [0., 0., 1., ..., 1., 1., 0.]])"
      ]
     },
     "execution_count": 28,
     "metadata": {},
     "output_type": "execute_result"
    }
   ],
   "source": [
    "numpy.loadtxt(fname=\"C:/Users/User/Desktop/LearningPython/data/inflammation-01.csv\", delimiter=\",\")"
   ]
  },
  {
   "cell_type": "code",
   "execution_count": 29,
   "metadata": {},
   "outputs": [],
   "source": [
    "arthdata=numpy.loadtxt(fname=\"C:/Users/User/Desktop/LearningPython/data/inflammation-01.csv\", delimiter=\",\")"
   ]
  },
  {
   "cell_type": "code",
   "execution_count": 30,
   "metadata": {},
   "outputs": [
    {
     "name": "stdout",
     "output_type": "stream",
     "text": [
      "[[0. 0. 1. ... 3. 0. 0.]\n",
      " [0. 1. 2. ... 1. 0. 1.]\n",
      " [0. 1. 1. ... 2. 1. 1.]\n",
      " ...\n",
      " [0. 1. 1. ... 1. 1. 1.]\n",
      " [0. 0. 0. ... 0. 2. 0.]\n",
      " [0. 0. 1. ... 1. 1. 0.]]\n"
     ]
    }
   ],
   "source": [
    "print(arthdata)"
   ]
  },
  {
   "cell_type": "code",
   "execution_count": 31,
   "metadata": {},
   "outputs": [
    {
     "name": "stdout",
     "output_type": "stream",
     "text": [
      "<class 'numpy.ndarray'>\n"
     ]
    }
   ],
   "source": [
    "print(type(arthdata))"
   ]
  },
  {
   "cell_type": "code",
   "execution_count": 32,
   "metadata": {},
   "outputs": [
    {
     "name": "stdout",
     "output_type": "stream",
     "text": [
      "[ 0.  0.  1.  3.  1.  2.  4.  7.  8.  3.  3.  3. 10.  5.  7.  4.  7.  7.\n",
      " 12. 18.  6. 13. 11. 11.  7.  7.  4.  6.  8.  8.  4.  4.  5.  7.  3.  4.\n",
      "  2.  3.  0.  0.]\n"
     ]
    }
   ],
   "source": [
    "print(arthdata[0,:])"
   ]
  },
  {
   "cell_type": "code",
   "execution_count": 39,
   "metadata": {},
   "outputs": [
    {
     "name": "stdout",
     "output_type": "stream",
     "text": [
      "18.0\n",
      "18.0\n",
      "19.0\n",
      "17.0\n",
      "17.0\n",
      "18.0\n",
      "17.0\n",
      "20.0\n",
      "17.0\n",
      "18.0\n",
      "18.0\n",
      "18.0\n",
      "17.0\n",
      "16.0\n",
      "17.0\n",
      "18.0\n",
      "19.0\n",
      "19.0\n",
      "17.0\n",
      "19.0\n",
      "19.0\n",
      "16.0\n",
      "17.0\n",
      "15.0\n",
      "17.0\n",
      "17.0\n",
      "18.0\n",
      "17.0\n",
      "20.0\n",
      "17.0\n",
      "16.0\n",
      "19.0\n",
      "15.0\n",
      "15.0\n",
      "19.0\n",
      "17.0\n",
      "16.0\n",
      "17.0\n",
      "19.0\n",
      "16.0\n",
      "18.0\n",
      "19.0\n",
      "16.0\n",
      "19.0\n",
      "18.0\n",
      "16.0\n",
      "19.0\n",
      "15.0\n",
      "16.0\n",
      "18.0\n",
      "14.0\n",
      "20.0\n",
      "17.0\n",
      "15.0\n",
      "17.0\n",
      "16.0\n",
      "17.0\n",
      "19.0\n",
      "18.0\n",
      "18.0\n"
     ]
    }
   ],
   "source": [
    "for x in range(len(arthdata[:,0])):\n",
    "    print(numpy.amax(arthdata[x,:]))"
   ]
  },
  {
   "cell_type": "code",
   "execution_count": 44,
   "metadata": {},
   "outputs": [
    {
     "name": "stdout",
     "output_type": "stream",
     "text": [
      "[18. 18. 19. 17. 17. 18. 17. 20. 17. 18. 18. 18. 17. 16. 17. 18. 19. 19.\n",
      " 17. 19. 19. 16. 17. 15. 17. 17. 18. 17. 20. 17. 16. 19. 15. 15. 19. 17.\n",
      " 16. 17. 19. 16. 18. 19. 16. 19. 18. 16. 19. 15. 16. 18. 14. 20. 17. 15.\n",
      " 17. 16. 17. 19. 18. 18.]\n"
     ]
    }
   ],
   "source": [
    "maximumdata=numpy.max(arthdata, axis=1)\n",
    "print(maximumdata)"
   ]
  },
  {
   "cell_type": "code",
   "execution_count": 50,
   "metadata": {},
   "outputs": [
    {
     "name": "stdout",
     "output_type": "stream",
     "text": [
      "[ 0.          0.45        1.11666667  1.75        2.43333333  3.15\n",
      "  3.8         3.88333333  5.23333333  5.51666667  5.95        5.9\n",
      "  8.35        7.73333333  8.36666667  9.5         9.58333333 10.63333333\n",
      " 11.56666667 12.35       13.25       11.96666667 11.03333333 10.16666667\n",
      " 10.          8.66666667  9.15        7.25        7.33333333  6.58333333\n",
      "  6.06666667  5.95        5.11666667  3.6         3.3         3.56666667\n",
      "  2.48333333  1.5         1.13333333  0.56666667]\n",
      "(40,)\n"
     ]
    }
   ],
   "source": [
    "daily_average=numpy.mean(arthdata, axis=0)\n",
    "print(daily_average)\n",
    "print(daily_average.shape)"
   ]
  },
  {
   "cell_type": "code",
   "execution_count": 46,
   "metadata": {},
   "outputs": [
    {
     "name": "stdout",
     "output_type": "stream",
     "text": [
      "4.579294680644961\n"
     ]
    }
   ],
   "source": [
    "print(numpy.std(arthdata, axis=1).mean())"
   ]
  },
  {
   "cell_type": "markdown",
   "metadata": {},
   "source": [
    "#Visualising"
   ]
  },
  {
   "cell_type": "code",
   "execution_count": 53,
   "metadata": {},
   "outputs": [
    {
     "data": {
      "image/png": "[encoded data removed]",
      "text/plain": [
       "<Figure size 432x288 with 1 Axes>"
      ]
     },
     "metadata": {
      "needs_background": "light"
     },
     "output_type": "display_data"
    }
   ],
   "source": [
    "import matplotlib.pyplot as plt\n",
    "image=plt.imshow(arthdata)\n",
    "plt.show()"
   ]
  },
  {
   "cell_type": "code",
   "execution_count": 54,
   "metadata": {},
   "outputs": [
    {
     "data": {
      "image/png": "[encoded data removed]",
      "text/plain": [
       "<Figure size 432x288 with 1 Axes>"
      ]
     },
     "metadata": {
      "needs_background": "light"
     },
     "output_type": "display_data"
    }
   ],
   "source": [
    "average_inflamation_per_day=arthdata.mean(axis=0)\n",
    "average_plot=plt.plot(average_inflamation_per_day)"
   ]
  },
  {
   "cell_type": "code",
   "execution_count": 57,
   "metadata": {},
   "outputs": [
    {
     "data": {
      "image/png": "[encoded data removed]",
      "text/plain": [
       "<Figure size 720x216 with 3 Axes>"
      ]
     },
     "metadata": {
      "needs_background": "light"
     },
     "output_type": "display_data"
    }
   ],
   "source": [
    "import numpy as np\n",
    "import matplotlib.pyplot as plt\n",
    "\n",
    "data=np.loadtxt(fname=\"C:/Users/User/Desktop/LearningPython/data/inflammation-01.csv\", delimiter=\",\")\n",
    "\n",
    "figure=plt.figure(figsize=(10,3))\n",
    "\n",
    "axes1=figure.add_subplot(1,3,1)\n",
    "axes2=figure.add_subplot(1,3,2)\n",
    "axes3=figure.add_subplot(1,3,3)\n",
    "\n",
    "axes1.set_ylabel('Average')\n",
    "axes1.plot(data.mean(axis=0))\n",
    "axes1.set_ylim(0,20)\n",
    "\n",
    "axes2.set_ylabel('Maximum')\n",
    "axes2.plot(data.max(axis=0))\n",
    "axes2.set_ylim(0,20)\n",
    "\n",
    "axes3.set_ylabel(\"Minimum\")\n",
    "axes3.plot(data.min(axis=0))\n",
    "axes3.set_ylim(0,20)\n",
    "\n",
    "figure.tight_layout()\n",
    "plt.show()\n",
    "                \n"
   ]
  }
 ],
 "metadata": {
  "kernelspec": {
   "display_name": "Python 3",
   "language": "python",
   "name": "python3"
  },
  "language_info": {
   "codemirror_mode": {
    "name": "ipython",
    "version": 3
   },
   "file_extension": ".py",
   "mimetype": "text/x-python",
   "name": "python",
   "nbconvert_exporter": "python",
   "pygments_lexer": "ipython3",
   "version": "3.8.3"
  }
 },
 "nbformat": 4,
 "nbformat_minor": 4
}
